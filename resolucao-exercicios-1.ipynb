{
 "cells": [
  {
   "cell_type": "markdown",
   "metadata": {},
   "source": [
    "# Resolução dos exercícios da seção 1"
   ]
  },
  {
   "cell_type": "markdown",
   "metadata": {},
   "source": [
    "**Exercício 3: De quantas maneiras diferentes podemos obter a primeira e então a segunda carta com um baralho de 52 cartas?**\n",
    "\n",
    "Solução:\n",
    "* Na primeira escolha, $s_1$, podem ser formados $52$ subconjuntos.\n",
    "* Na segunda escolha, $s_2$, podem ser formados $52 - 1 = 51$ subconjuntos, pois a carta escolhida no passo anterior não pode ser escolhida novamente na segunda escolha.\n",
    "\n",
    "Pelo princípio do produto temos:\n",
    "\n",
    "\\begin{align*}\n",
    "\\left| S \\right| = \\left| s_1 \\right| \\times \\left| s_2 \\right| = 52 \\times 51 = 2652\n",
    "\\end{align*}\n",
    "\n",
    "Ou seja, $2652$ combinações (ou maneiras diferentes)."
   ]
  },
  {
   "cell_type": "markdown",
   "metadata": {},
   "source": [
    "**Exercício 4: De quantas maneiras diferentes podemos obter duas cartas de um baralho de 52 cartas?**\n",
    "\n",
    "Solução:\n",
    "\n",
    "O raciocínio é semelhante ao usado no **Exercício 3**. Entretanto, ao invés de fazer duas escolhas em sequência, é uma escolha de duas cartas, ou seja, um par. Assim o problema se torna: quantos pares de cartas (ou subconjuntos com dois elementos) podem ser formados de um baralho de 52 cartas? Como o par de cartas $(1, 2) = (2, 1)$ tem-se o seguinte:\n",
    "\n",
    "\\begin{align*}\n",
    "\\frac{n \\times (n - 1)}{2} = \\frac{52 \\times 51}{2} = \\frac{2652}{2} = 1326\n",
    "\\end{align*}"
   ]
  },
  {
   "cell_type": "markdown",
   "metadata": {},
   "source": [
    "**Exercício 5: De quantas maneiras diferentes podemos obter a primeira, a segunda e a terceira carta de um baralho de 52 cartas?**\n",
    "\n",
    "Solução:\n",
    "\n",
    "O raciocínio é semelhante ao usado no **Exercício 3**:\n",
    "* Na primeira escolha, $s_1$, podem ser formados $52$ subconjuntos\n",
    "* Na segunda escolha, $s_2$, podem ser formados $52 - 1 = 51$ subconjuntos\n",
    "* Na terceira escolha, $s_3$, podem ser formados $52 - 2 = 50$ subconjuntos\n",
    "\n",
    "Pelo princípio do produto, temos:\n",
    "\n",
    "\\begin{align*}\n",
    "\\left| S \\right| & = \\left| s_1 \\right| \\times \\left| s_2 \\right| \\times \\left| s_3 \\right|  \\\\\n",
    "& = 52 \\times 51 \\times 50 \\\\\n",
    "& = 132.600\n",
    "\\end{align*}\n",
    "\n",
    "Ou seja, $132.600$ combinações (ou maneiras diferentes)."
   ]
  },
  {
   "cell_type": "markdown",
   "metadata": {},
   "source": [
    "**Exercício 6: De quantas maneiras diferentes um clube com 10 sócios pode eleger um presidente e um tesoureiro dentre os seus participantes?**\n",
    "\n",
    "Solução:\n",
    "\n",
    "O raciocínio é semelhante ao usado no **Exercício 3**. Uma eleição é similar a uma escolha, então o enunciado trata de duas escolhas (eleições) em sequência:\n",
    "* Na primeira eleição, para presidente, $s_1$, podem ser eleitos $10$ sócios\n",
    "* Na segunda eleição, para tesoureiro, $s_2$, podem ser eleitos $9$ sócios, pois um deles já foi eleito para presidente\n",
    "\n",
    "Pelo princípio do produto, temos:\n",
    "\n",
    "\\begin{align*}\n",
    "\\left| S \\right| = \\left| s_1 \\right| \\times \\left| s_2 \\right| \n",
    "& = 10 \\times 9\n",
    "& = 90\n",
    "\\end{align*}\n",
    "\n",
    "Ou seja, $90$ combinações (ou maneiras diferentes)."
   ]
  },
  {
   "cell_type": "markdown",
   "metadata": {},
   "source": [
    "**Exercício 7: De quantas maneiras diferentes um clube com 10 sócios pode eleger um comitê executivo de duas pessoas dentre seus participantes?**\n",
    "\n",
    "Solução:\n",
    "\n",
    "O raciocínio é semelhante ao usado no **Exercício 4**: o objetivo é saber quantas escolhas (eleições) de um par podem ser feitas dentre os sócios do clube. A resposta é:\n",
    "\n",
    "\\begin{align*}\n",
    "\\frac{n \\times (n - 1)}{2} = \\frac{10 \\times 9}{2} = \\frac{90}{2} = 45\n",
    "\\end{align*}\n",
    "\n",
    "Ou seja, $45$ combinações (ou maneiras diferentes)."
   ]
  },
  {
   "cell_type": "markdown",
   "metadata": {},
   "source": [
    "**Exercício 8: De quantas maneiras diferentes um clube com 10 sócios pode eleger um presidente e um quadro com dois conselheiros executivos dentre os seus sócios (supondo que o presidente não esteja no quadro de conselheiros)?**\n",
    "\n",
    "Solução:\n",
    "\n",
    "* Para a eleição do presidente, há $10$ possibilidades\n",
    "* Assim, com um presidente já eleito, restam $9$ membros para a eleição do quadro com dois executivos\n",
    "* Escolher o quadro de executivos é o mesmo que escolher um par entre $9$ membros\n",
    "\n",
    "Assim:\n",
    "\n",
    "\\begin{align*}\n",
    "10 \\times \\frac{9 \\times 8}{2} = 10 \\times \\frac{72}{2} = 10 \\times 36 = 360\n",
    "\\end{align*}\n",
    "\n",
    "Ou seja, $360$ combinações (ou maneiras diferentes)."
   ]
  },
  {
   "cell_type": "markdown",
   "metadata": {},
   "source": [
    "**Exercício 9: Usando a fórmula para $\\binom{n}{2}$, é simples mostrar que:**\n",
    "\n",
    "\\begin{align*}\n",
    "n \\times \\binom{n - 1}{2} = \\binom{n}{2} \\times (n - 2)\n",
    "\\end{align*}\n",
    "\n",
    "**No entanto, essa prova simplesmente usa substituição cega e simplificação. Encontre uma explicação mais conceitual do porquê de essa fórmula ser verdadeira. (Dica: pense a partir do ponto de vista dos dirigentes e participantes do comitê de um clube.)**\n",
    "\n",
    "Solução:\n",
    "\n",
    "O **Exercício 9** trata de outra forma de enxergar o **Exercício 8**. Em outras palavras, a demonstração indica que a quantidade de maneiras diferentes para escolher um elemento entre $n$ seguida de outra escolha de um par dentre os $n - 1$ elementos restantes é igual à quantidade de maneiras diferentes de escolher um par entre $n$ elementos seguida de uma escolha dentre os $n - 2$ elementos restantes.\n",
    "\n",
    "Usando o enunciado do **Exercício 9**:\n",
    "\n",
    "\\begin{align*}\n",
    "10 \\times \\binom{9}{2} = \\binom{10}{2} \\times 8 \\\\\n",
    "10 \\times \\frac{9 \\times 8}{2} = \\frac{10 \\times 9}{2} \\times 8 \\\\\n",
    "\\frac{10 \\times 9 \\times 8}{2} = \\frac{10 \\times 9 \\times 8}{2}\n",
    "\\end{align*}"
   ]
  },
  {
   "cell_type": "markdown",
   "metadata": {},
   "source": [
    "**Exercício 11: A sorveteria local comercializa dez sabores diferentes de sorvete. Quantos sorvetes com duas bolas de sabores diferentes existem? (Seguindo a opinião de sua mãe de que tudo vai para o estômago, um sorvete de chocolate com uma bola de baunilha por cima é considerado o mesmo que um sorvete de baunilha com chocolate por cima.)**\n",
    "\n",
    "Solução:\n",
    "\n",
    "O raciocínio é o mesmo usado no **Exercício 4**:\n",
    "* Uma vez que um par $(chocolate, baunilha) = (baunilha, chocolate)$; e\n",
    "* Os sorvetes têm duas bolas com sabores diferentes:\n",
    "\n",
    "\\begin{align*}\n",
    "\\frac{n \\times (n - 1)}{2} = \\frac{10 \\times 9}{2} = 45\n",
    "\\end{align*}\n",
    "\n",
    "Ou seja, $45$ combinações (ou maneiras diferentes)."
   ]
  },
  {
   "cell_type": "markdown",
   "metadata": {},
   "source": [
    "**Exercício 12: Imagine que você decicidiu não concordar com sua mãe no Problema 11, isto é, a ordem das bolas importa. Quantos sorvetes diferentes de dois sabores podem existir?**\n",
    "\n",
    "Solução:\n",
    "\n",
    "* Um par $(chocolate, baunilha) \\neq (baunilha, chocolate)$; e\n",
    "* O enunciado não informa que não possa ocorrer o par $(chocolate, chocolate)$, ou seja, um sorvete pode ter duas bolas de sabores iguais: \n",
    "\n",
    "\\begin{align*}\n",
    "10 \\times 10 = 100\n",
    "\\end{align*}.\n",
    "\n",
    "Ou seja, $100$ combinações (maneiras diferentes)."
   ]
  },
  {
   "cell_type": "markdown",
   "metadata": {},
   "source": [
    "**Exercício 14: A lanchonete Pile High Deli oferece um sanduíche simples feito a partir da escolha de um dos cinco diferentes tipos de pães; incluindo ou não manteiga ou maionese; mais um dos três diferentes tipos de carne; e um dos três diferentes tipos de queijo, com carne e queijo sobre o pão. De quantas maneiras você pode escolher um simples sanduíche?**\n",
    "\n",
    "Solução:\n",
    "\n",
    "Em resumo:\n",
    "* tipos de pães: $\\left|P\\right|=5$\n",
    "* opções de molho (nenhum, manteiga, maionese): $\\left|M\\right|=3$ \n",
    "* tipos de carnes: $\\left|C\\right|=3$\n",
    "* tipos de queijo: $\\left|Q\\right|=3$\n",
    "* $S = P \\cup M \\cup C \\cup Q$:\n",
    "\n",
    "\\begin{align*}\n",
    "\\left| S \\right| = 5 \\times 3 \\times 3 \\times 3 = 135\n",
    "\\end{align*}\n",
    "\n",
    "Ou seja, $135$ combinações (maneiras diferentes).\n",
    "\n",
    "A figura a seguir ilustra esse processo na forma de uma árvore que demonstra as possibilidades de combinações entre os ingredientes do sanduíche.\n",
    "\n",
    "![](exercicio-1-14.png)\n",
    "\n",
    "Os nós-folha representam as combinações."
   ]
  }
 ],
 "metadata": {
  "kernelspec": {
   "display_name": "Python 3",
   "language": "python",
   "name": "python3"
  },
  "language_info": {
   "codemirror_mode": {
    "name": "ipython",
    "version": 3
   },
   "file_extension": ".py",
   "mimetype": "text/x-python",
   "name": "python",
   "nbconvert_exporter": "python",
   "pygments_lexer": "ipython3",
   "version": "3.4.4"
  }
 },
 "nbformat": 4,
 "nbformat_minor": 0
}
